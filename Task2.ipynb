{
 "cells": [
  {
   "cell_type": "code",
   "execution_count": 29,
   "id": "29eaf2ae-9e1b-46e9-aafd-83d746e723b7",
   "metadata": {},
   "outputs": [],
   "source": [
    "#Internship-Task 2\n",
    "#BUILD A BASIC SPEECH-TO-TEXT SYSTEM USING PRE-TRAINED MODELS AND LIBRARIES LIKE SPEECHRECOGNITION OR WAV2VEC.\n",
    "#DELIVERABLE: A FUNCTIONAL SYSTEM CAPABLE OF TRANSCRIBING SHORT AUDIO CLIP\n",
    "#The speech_recognition library in Python is a tool that simplifies integrating speech recognition into our applications\n",
    "#It acts as a wrapper for various speech-to-text APIs and engines, allowing us to convert spoken language into text\n",
    "#import the library speech_recognition for use in our program\n",
    "import speech_recognition as sr"
   ]
  },
  {
   "cell_type": "code",
   "execution_count": 31,
   "id": "88a7908b-5b48-4158-9498-648ab49ec729",
   "metadata": {},
   "outputs": [],
   "source": [
    "#The Recognizer class is a fundamental component of the SpeechRecognition library in Python\n",
    "#It processes audio input and performs speech recognition tasks \n",
    "#Initializes the recognizer class\n",
    "recognizer = sr.Recognizer()"
   ]
  },
  {
   "cell_type": "code",
   "execution_count": 33,
   "id": "11e07fb3-9cf1-466f-9b27-fa80329e5991",
   "metadata": {},
   "outputs": [],
   "source": [
    "#For testing this recognizer class, i have recorded an audio and saved it as a .WAV file\n",
    "# Provide the complete file path of the audio file\n",
    "audio_file = r'C:\\Users\\mouly\\Desktop\\Moulya Recording\\Recording.WAV'"
   ]
  },
  {
   "cell_type": "code",
   "execution_count": 35,
   "id": "9fbf7ad6-3078-4709-b4d1-7aab67bc8ab2",
   "metadata": {},
   "outputs": [
    {
     "name": "stdout",
     "output_type": "stream",
     "text": [
      "Recognized speech:  nature encompasses the natural world including all living and nonliving things and the environment they inhabit it provides essential resources like clean hair water and food and substance ecosystem in a delicate balance nature is also a source of inspiration and beauty offering a variety of landscapes flora and fauna however human activities like pollution and deforestation are disrupting this balance threatening the well being of both humans and the natural world\n"
     ]
    }
   ],
   "source": [
    "#The recognizer.record() function is used to record audio from a microphone\n",
    "#or audio source and store it as an AudioData object, which can then be used for speech recognition\n",
    "#Read from the audio file and store the data in audio_data object\n",
    "with sr.AudioFile(audio_file) as source:\n",
    "    audio_data = recognizer.record(source)\n",
    "    try:\n",
    "#The recognize_google() method on it to access the Google web speech API and turn spoken language into text. \n",
    "#The recognize_google() requires an argument audio_data otherwise it will return an error.\n",
    "# Recognize the speech\n",
    "        text = recognizer.recognize_google(audio_data)\n",
    "        print(\"Recognized speech: \", text)\n",
    "#Capture the error and print the error message\n",
    "    except Exception as e:\n",
    "        print(f\"Unexpected {e=}, {type(e)=}\")"
   ]
  }
 ],
 "metadata": {
  "kernelspec": {
   "display_name": "Python [conda env:base] *",
   "language": "python",
   "name": "conda-base-py"
  },
  "language_info": {
   "codemirror_mode": {
    "name": "ipython",
    "version": 3
   },
   "file_extension": ".py",
   "mimetype": "text/x-python",
   "name": "python",
   "nbconvert_exporter": "python",
   "pygments_lexer": "ipython3",
   "version": "3.12.7"
  }
 },
 "nbformat": 4,
 "nbformat_minor": 5
}
